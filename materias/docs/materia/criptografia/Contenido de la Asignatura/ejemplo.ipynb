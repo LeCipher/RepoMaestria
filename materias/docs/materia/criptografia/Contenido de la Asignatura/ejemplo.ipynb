{
  "nbformat": 4,
  "nbformat_minor": 0,
  "metadata": {
    "colab": {
      "provenance": []
    },
    "kernelspec": {
      "name": "python3",
      "display_name": "Python 3"
    },
    "language_info": {
      "name": "python"
    }
  },
  "cells": [
    {
      "cell_type": "markdown",
      "source": [
        "<img src= 'https://drive.google.com/uc?id=1DuyuL5vlBuR2NgKxq9fXxxeJU6wZlwKf' align='left' width=\"250\">\n"
      ],
      "metadata": {
        "id": "63OmMzLJDD4S"
      }
    },
    {
      "cell_type": "markdown",
      "source": [
        " **Miguel Hernández Cáceres, PhD**\n"
      ],
      "metadata": {
        "id": "ayQpO-RMDON1"
      }
    },
    {
      "cell_type": "code",
      "execution_count": null,
      "metadata": {
        "id": "wGT9SBCYh9dO"
      },
      "outputs": [],
      "source": [
        "def get_factors(num):\n",
        "  factors = []\n",
        "  for i in range(2,int(num)):\n",
        "    if ((num % i) == 0):\n",
        "      factors.append(i)\n",
        "  return(factors)\n",
        "\n",
        "def isPrime(num):\n",
        "  for i in range(2,num):\n",
        "    if(num % i) == 0:\n",
        "      prime = False\n",
        "    else:\n",
        "      prime = True\n",
        "    return(True)\n",
        "\n",
        "def isCoprime(num1,num2):\n",
        "  num1_factors = get_factors(num1)\n",
        "  num2_factors = get_factors(num2)\n",
        "  if set(num1_factors).isdisjoint(set(num2_factors)):\n",
        "    return True\n",
        "  else:\n",
        "    return False\n",
        "\n",
        "def phi_n(prime1,prime2):\n",
        "  return(((prime1-1)*(prime2-1)))\n",
        "\n",
        "\n",
        "def find_d(prime1,prime2,e):\n",
        "  phi = phi_n(prime1,prime2)\n",
        "  n = prime1*prime1\n",
        "  for i in range(2,n):\n",
        "    if (((i*e) % phi_n) == 1):\n",
        "      print(i)\n",
        "      return i\n",
        "\n",
        "\n",
        "def find_e(prime1,prime2):\n",
        "  phi = phi_n(prime1,prime2)\n",
        "  n = prime1*prime2\n",
        "  candidates = []\n",
        "  for i in range(3,n):\n",
        "    if isPrime(i):\n",
        "      if((isCoprime(i,n)) and (isCoprime(i,phi))):\n",
        "        candidates.append(i)\n",
        "\n",
        "  return candidates\n",
        "\n",
        "def find_d(prime1,prime2,e):\n",
        "  phi = phi_n(prime1,prime2)\n",
        "  n= prime1*prime2\n",
        "  for i in range(prime1,n):\n",
        "    if (((i*e) % phi) == 1):\n",
        "      print(i)\n",
        "      return i"
      ]
    },
    {
      "cell_type": "code",
      "source": [
        "print(find_e(47,61))"
      ],
      "metadata": {
        "colab": {
          "base_uri": "https://localhost:8080/"
        },
        "id": "hQNmRs041lab",
        "outputId": "ead7e42f-41cd-4540-f6de-c96a9c8e46ba"
      },
      "execution_count": null,
      "outputs": [
        {
          "output_type": "stream",
          "name": "stdout",
          "text": [
            "[3, 5, 7, 11, 13, 17, 19, 23, 29, 31, 37, 41, 43, 47, 49, 53, 59, 61, 67, 71, 73, 77, 79, 83, 89, 91, 97, 101, 103, 107, 109, 113, 119, 121, 127, 131, 133, 137, 139, 143, 149, 151, 157, 163, 167, 169, 173, 179, 181, 187, 191, 193, 197, 199, 203, 209, 211, 217, 221, 223, 227, 229, 233, 239, 241, 247, 251, 257, 259, 263, 269, 271, 277, 281, 283, 287, 289, 293, 301, 307, 311, 313, 317, 319, 323, 331, 337, 341, 343, 347, 349, 353, 359, 361, 367, 371, 373, 377, 379, 383, 389, 397, 401, 403, 407, 409, 413, 419, 421, 431, 433, 439, 443, 449, 451, 457, 461, 463, 467, 469, 473, 479, 481, 487, 491, 493, 497, 499, 503, 509, 511, 521, 523, 527, 533, 539, 541, 547, 551, 553, 557, 559, 563, 569, 571, 577, 581, 583, 587, 589, 593, 599, 601, 607, 613, 617, 619, 623, 629, 631, 637, 641, 643, 647, 649, 653, 659, 661, 673, 677, 679, 683, 689, 691, 697, 701, 703, 707, 709, 719, 721, 727, 731, 733, 737, 739, 743, 749, 751, 757, 761, 763, 767, 769, 773, 779, 781, 787, 791, 797, 803, 809, 811, 817, 821, 823, 827, 829, 833, 839, 841, 847, 853, 857, 859, 863, 869, 871, 877, 881, 883, 887, 889, 899, 901, 907, 911, 913, 917, 919, 923, 929, 931, 937, 941, 947, 949, 953, 959, 961, 967, 971, 973, 977, 979, 983, 991, 997, 1001, 1003, 1007, 1009, 1013, 1019, 1021, 1027, 1031, 1033, 1039, 1043, 1049, 1051, 1057, 1061, 1063, 1067, 1069, 1073, 1079, 1087, 1091, 1093, 1097, 1099, 1103, 1109, 1111, 1117, 1121, 1123, 1129, 1133, 1139, 1141, 1147, 1151, 1153, 1157, 1163, 1169, 1171, 1177, 1181, 1183, 1187, 1189, 1193, 1199, 1201, 1207, 1211, 1213, 1217, 1223, 1229, 1231, 1237, 1241, 1243, 1247, 1249, 1253, 1259, 1261, 1267, 1271, 1273, 1277, 1279, 1283, 1289, 1291, 1297, 1301, 1303, 1307, 1309, 1313, 1319, 1321, 1327, 1331, 1333, 1337, 1339, 1343, 1349, 1351, 1361, 1367, 1369, 1373, 1379, 1381, 1387, 1391, 1393, 1397, 1399, 1409, 1411, 1417, 1421, 1423, 1427, 1429, 1433, 1439, 1441, 1447, 1451, 1453, 1459, 1463, 1469, 1471, 1477, 1481, 1483, 1487, 1489, 1493, 1499, 1501, 1507, 1511, 1513, 1517, 1519, 1523, 1529, 1531, 1537, 1543, 1547, 1549, 1553, 1559, 1561, 1567, 1571, 1573, 1577, 1579, 1583, 1589, 1591, 1597, 1601, 1603, 1607, 1609, 1613, 1619, 1621, 1627, 1631, 1637, 1639, 1643, 1649, 1651, 1657, 1661, 1663, 1667, 1669, 1673, 1681, 1687, 1691, 1693, 1697, 1699, 1703, 1709, 1711, 1717, 1721, 1723, 1727, 1729, 1733, 1741, 1747, 1751, 1753, 1757, 1759, 1763, 1777, 1781, 1783, 1787, 1789, 1793, 1799, 1801, 1807, 1811, 1813, 1819, 1823, 1829, 1831, 1837, 1841, 1843, 1847, 1849, 1853, 1859, 1861, 1867, 1871, 1873, 1877, 1879, 1883, 1889, 1897, 1901, 1903, 1907, 1913, 1919, 1921, 1931, 1933, 1937, 1939, 1943, 1949, 1951, 1957, 1961, 1963, 1967, 1969, 1973, 1979, 1981, 1987, 1991, 1993, 1997, 1999, 2003, 2009, 2011, 2017, 2023, 2027, 2029, 2033, 2039, 2041, 2051, 2053, 2057, 2059, 2063, 2069, 2071, 2077, 2081, 2083, 2087, 2089, 2099, 2101, 2107, 2111, 2113, 2117, 2119, 2123, 2129, 2131, 2137, 2141, 2143, 2147, 2149, 2153, 2159, 2161, 2167, 2171, 2173, 2177, 2179, 2183, 2189, 2191, 2197, 2201, 2203, 2207, 2213, 2219, 2221, 2227, 2233, 2237, 2239, 2243, 2249, 2251, 2261, 2263, 2267, 2269, 2273, 2279, 2281, 2287, 2291, 2293, 2297, 2299, 2309, 2311, 2317, 2321, 2327, 2329, 2333, 2339, 2341, 2347, 2351, 2353, 2357, 2359, 2363, 2371, 2377, 2381, 2383, 2387, 2389, 2393, 2399, 2401, 2407, 2411, 2413, 2417, 2419, 2423, 2429, 2431, 2437, 2441, 2443, 2447, 2449, 2453, 2459, 2467, 2471, 2473, 2477, 2479, 2483, 2489, 2497, 2503, 2509, 2513, 2519, 2521, 2527, 2531, 2533, 2537, 2539, 2543, 2549, 2551, 2557, 2561, 2563, 2567, 2569, 2573, 2579, 2581, 2587, 2591, 2593, 2597, 2603, 2609, 2611, 2617, 2621, 2627, 2629, 2633, 2639, 2641, 2647, 2651, 2653, 2657, 2659, 2663, 2669, 2671, 2677, 2681, 2683, 2687, 2689, 2693, 2699, 2701, 2707, 2711, 2713, 2717, 2719, 2723, 2729, 2731, 2741, 2743, 2747, 2749, 2753, 2759, 2761, 2767, 2771, 2777, 2779, 2789, 2791, 2797, 2801, 2803, 2807, 2809, 2813, 2819, 2821, 2827, 2831, 2833, 2837, 2839, 2843, 2849, 2851, 2857, 2861, 2863]\n"
          ]
        }
      ]
    },
    {
      "cell_type": "code",
      "source": [
        "print(find_d(47,61,7))"
      ],
      "metadata": {
        "colab": {
          "base_uri": "https://localhost:8080/"
        },
        "id": "Afys9jT54hrQ",
        "outputId": "1f65dece-da89-4045-f9e0-8c5aa2053b59"
      },
      "execution_count": null,
      "outputs": [
        {
          "output_type": "stream",
          "name": "stdout",
          "text": [
            "1183\n",
            "1183\n"
          ]
        }
      ]
    },
    {
      "cell_type": "code",
      "source": [
        "phi_n(47,61)"
      ],
      "metadata": {
        "colab": {
          "base_uri": "https://localhost:8080/"
        },
        "id": "rzakxSWD5E-T",
        "outputId": "fbfc818a-74a4-43fb-ed28-41ceaa6b7c69"
      },
      "execution_count": null,
      "outputs": [
        {
          "output_type": "execute_result",
          "data": {
            "text/plain": [
              "2760"
            ]
          },
          "metadata": {},
          "execution_count": 7
        }
      ]
    },
    {
      "cell_type": "code",
      "source": [
        "import re\n",
        "\n",
        "def cifrado_1(s,e,p,q):\n",
        "  letter_to_number = {\n",
        "        'A': '00', 'B': '01', 'C': '02', 'D': '03', 'E': '04', 'F': '05',\n",
        "        'G': '06', 'H': '07', 'I': '08', 'J': '09', 'K': '10', 'L': '11',\n",
        "        'M': '12', 'N': '13', 'Ñ': '14', 'O': '15', 'P': '16', 'Q': '17',\n",
        "        'R': '18', 'S': '19', 'T': '20', 'U': '21', 'V': '22', 'W': '23',\n",
        "        'X': '24', 'Y': '25', 'Z': '26'\n",
        "  }\n",
        "  text = re.sub(r'[\\W_]', '', s.lower())\n",
        "  result = []\n",
        "  for char in text.upper():\n",
        "    if char in letter_to_number:\n",
        "      result.append(letter_to_number[char])\n",
        "    else:\n",
        "      result.append(char)  # Keep non-alphabetic characters unchanged\n",
        "\n",
        "  all_numbers = ''.join(result)\n",
        "  #print(all_numbers)\n",
        "\n",
        "  # Group the numbers into blocks of 4 digits\n",
        "  blocks = [all_numbers[i:i+4] for i in range(0, len(all_numbers), 4)]\n",
        "  if (len(blocks[len(blocks)-1]) == 2):\n",
        "    blocks[-1] = blocks[-1]+'24'\n",
        "  n = p*q\n",
        "  new_block = []\n",
        "  for i in range(len(blocks)):\n",
        "    C = pow(int(blocks[i]),e,n)\n",
        "    c = len(str(C))\n",
        "    l = 4 - c\n",
        "    new_block.append('0'*l+str(C))\n",
        "    #print(' '.join(blocks))\n",
        "    #print(len(str(pow(int(blocks[i]),17,2707))))\n",
        "\n",
        "  return ([' '.join(new_block),new_block])\n",
        "\n"
      ],
      "metadata": {
        "id": "-PiptfRTwSXf"
      },
      "execution_count": null,
      "outputs": []
    },
    {
      "cell_type": "code",
      "source": [
        "print(cifrado_1('LA SABIDURIA NO LLEGA POR LA EDAD SINO POR LA EXPERIENCIA',7,47,61)[1])"
      ],
      "metadata": {
        "colab": {
          "base_uri": "https://localhost:8080/"
        },
        "id": "VCG_ZW5EZJBH",
        "outputId": "927e199f-5502-4a5e-edb9-3a7cd0bfd988"
      },
      "execution_count": null,
      "outputs": [
        {
          "output_type": "stream",
          "name": "stdout",
          "text": [
            "['2568', '2094', '2609', '2150', '2323', '1355', '0291', '0922', '0157', '0520', '1155', '2049', '0382', '1600', '0400', '2298', '2092', '2568', '2022', '2072', '2323', '1694', '0073', '2509']\n"
          ]
        }
      ]
    },
    {
      "cell_type": "code",
      "source": [
        " def decifrado_1(s,d,p,q):\n",
        "    letter_to_number = {\n",
        "        'A': '00', 'B': '01', 'C': '02', 'D': '03', 'E': '04', 'F': '05',\n",
        "        'G': '06', 'H': '07', 'I': '08', 'J': '09', 'K': '10', 'L': '11',\n",
        "        'M': '12', 'N': '13', 'Ñ': '14', 'O': '15', 'P': '16', 'Q': '17',\n",
        "        'R': '18', 'S': '19', 'T': '20', 'U': '21', 'V': '22', 'W': '23',\n",
        "        'X': '24', 'Y': '25', 'Z': '26'\n",
        "    }\n",
        "\n",
        "    new_block = []\n",
        "    n = p*q\n",
        "    for i in range(len(s)):\n",
        "      C = pow(int(s[i]),d,n)\n",
        "      c = len(str(C))\n",
        "      l = 4 - c\n",
        "      new_block.append('0'*l+str(C))\n",
        "\n",
        "    return (new_block)\n"
      ],
      "metadata": {
        "id": "LbU3Eg2Nfc_i"
      },
      "execution_count": null,
      "outputs": []
    },
    {
      "cell_type": "code",
      "source": [
        "print(decifrado_1(cifrado_1('LA SABIDURIA NO LLEGA POR LA EDAD SINO POR LA EXPERIENCIA',7,47,61)[1],1183,47,61))"
      ],
      "metadata": {
        "colab": {
          "base_uri": "https://localhost:8080/"
        },
        "id": "ep9FCrqfRskh",
        "outputId": "6cab291b-7166-4361-b694-befd8f6c1ec4"
      },
      "execution_count": null,
      "outputs": [
        {
          "output_type": "stream",
          "name": "stdout",
          "text": [
            "['1100', '1900', '0108', '0321', '1808', '0013', '1511', '1104', '0600', '1615', '1811', '0004', '0300', '0319', '0813', '1516', '1518', '1100', '0424', '1604', '1808', '0413', '0208', '0024']\n"
          ]
        }
      ]
    },
    {
      "cell_type": "code",
      "source": [
        "def numbers_to_text(blocks):\n",
        "  number_to_letter = {\n",
        "        '00': 'A', '01': 'B', '02': 'C', '03': 'D', '04': 'E', '05': 'F',\n",
        "        '06': 'G', '07': 'H', '08': 'I', '09': 'J', '10': 'K', '11': 'L',\n",
        "        '12': 'M', '13': 'N', '14': 'Ñ', '15': 'O', '16': 'P', '17': 'Q',\n",
        "        '18': 'R', '19': 'S', '20': 'T', '21': 'U', '22': 'V', '23': 'W',\n",
        "        '24': 'X', '25': 'Y', '26': 'Z'\n",
        "    }\n",
        "\n",
        "  result = []\n",
        "  for block in blocks:\n",
        "    for i in range(0, len(block), 2):\n",
        "      num_str = block[i:i+2]  # Extract two-digit number as string\n",
        "      if num_str in number_to_letter:\n",
        "        result.append(number_to_letter[num_str])  # Convert to corresponding letter\n",
        "  return (''.join(result))"
      ],
      "metadata": {
        "id": "DHZmQwFa91Z0"
      },
      "execution_count": null,
      "outputs": []
    },
    {
      "cell_type": "code",
      "source": [
        "numbers_to_text(decifrado_1(cifrado_1('LA SABIDURIA NO LLEGA POR LA EDAD SINO POR LA EXPERIENCIA',7,47,61)[1],1183,47,61))"
      ],
      "metadata": {
        "colab": {
          "base_uri": "https://localhost:8080/",
          "height": 36
        },
        "id": "ASeJhFLL-PIK",
        "outputId": "3a013b01-66db-495e-d6e0-08a9a4dfe10d"
      },
      "execution_count": null,
      "outputs": [
        {
          "output_type": "execute_result",
          "data": {
            "text/plain": [
              "'LASABIDURIANOLLEGAPORLAEDADSINOPORLAEXPERIENCIAX'"
            ],
            "application/vnd.google.colaboratory.intrinsic+json": {
              "type": "string"
            }
          },
          "metadata": {},
          "execution_count": 16
        }
      ]
    }
  ]
}