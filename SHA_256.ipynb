{
  "nbformat": 4,
  "nbformat_minor": 0,
  "metadata": {
    "colab": {
      "provenance": []
    },
    "kernelspec": {
      "name": "python3",
      "display_name": "Python 3"
    },
    "language_info": {
      "name": "python"
    }
  },
  "cells": [
    {
      "cell_type": "markdown",
      "source": [
        "<img src= 'https://drive.google.com/uc?id=1DuyuL5vlBuR2NgKxq9fXxxeJU6wZlwKf' align='left' width=\"250\">\n",
        "\n"
      ],
      "metadata": {
        "id": "kTr00fPeUy_7"
      }
    },
    {
      "cell_type": "markdown",
      "source": [
        " **Miguel Hernández Cáceres, PhD**\n",
        "\n"
      ],
      "metadata": {
        "id": "NMwgCZKyULSf"
      }
    },
    {
      "cell_type": "markdown",
      "source": [
        "SHA-256"
      ],
      "metadata": {
        "id": "Fn8tnWyDYs7o"
      }
    },
    {
      "cell_type": "code",
      "source": [
        "!pip install  gmpy2"
      ],
      "metadata": {
        "colab": {
          "base_uri": "https://localhost:8080/"
        },
        "id": "sTqh024YiS0U",
        "outputId": "1649f645-fc79-440c-f0bf-a9a487cfc3c7"
      },
      "execution_count": null,
      "outputs": [
        {
          "output_type": "stream",
          "name": "stdout",
          "text": [
            "Collecting gmpy2\n",
            "  Downloading gmpy2-2.2.1-cp310-cp310-manylinux_2_17_x86_64.manylinux2014_x86_64.whl.metadata (2.8 kB)\n",
            "Downloading gmpy2-2.2.1-cp310-cp310-manylinux_2_17_x86_64.manylinux2014_x86_64.whl (1.7 MB)\n",
            "\u001b[?25l   \u001b[90m━━━━━━━━━━━━━━━━━━━━━━━━━━━━━━━━━━━━━━━━\u001b[0m \u001b[32m0.0/1.7 MB\u001b[0m \u001b[31m?\u001b[0m eta \u001b[36m-:--:--\u001b[0m\r\u001b[2K   \u001b[91m━━━━━\u001b[0m\u001b[91m╸\u001b[0m\u001b[90m━━━━━━━━━━━━━━━━━━━━━━━━━━━━━━━━━━\u001b[0m \u001b[32m0.2/1.7 MB\u001b[0m \u001b[31m7.3 MB/s\u001b[0m eta \u001b[36m0:00:01\u001b[0m\r\u001b[2K   \u001b[91m━━━━━━━━━━━━━━━━━━━━━━━━━━━━━━━━━━━━━━━\u001b[0m\u001b[91m╸\u001b[0m \u001b[32m1.7/1.7 MB\u001b[0m \u001b[31m23.7 MB/s\u001b[0m eta \u001b[36m0:00:01\u001b[0m\r\u001b[2K   \u001b[91m━━━━━━━━━━━━━━━━━━━━━━━━━━━━━━━━━━━━━━━\u001b[0m\u001b[91m╸\u001b[0m \u001b[32m1.7/1.7 MB\u001b[0m \u001b[31m23.7 MB/s\u001b[0m eta \u001b[36m0:00:01\u001b[0m\r\u001b[2K   \u001b[90m━━━━━━━━━━━━━━━━━━━━━━━━━━━━━━━━━━━━━━━━\u001b[0m \u001b[32m1.7/1.7 MB\u001b[0m \u001b[31m13.4 MB/s\u001b[0m eta \u001b[36m0:00:00\u001b[0m\n",
            "\u001b[?25hInstalling collected packages: gmpy2\n",
            "Successfully installed gmpy2-2.2.1\n"
          ]
        }
      ]
    },
    {
      "cell_type": "code",
      "source": [
        "def rotate_right(value_bin, shift):\n",
        "    # Ensure the input is exactly 32 bits\n",
        "    if len(value_bin) != 32:\n",
        "        raise ValueError(\"Input binary string must be 32 bits long.\")\n",
        "\n",
        "    # Perform the rotate right operation\n",
        "    rotated_value = value_bin[-(shift):] + value_bin[:-(shift) ]\n",
        "\n",
        "    # Ensure the result is still 32 bits\n",
        "    return rotated_value\n",
        "\n",
        "def right_shift(value_bin, shift):\n",
        "    # Ensure the input is exactly 32 bits\n",
        "    if len(value_bin) != 32:\n",
        "        raise ValueError(\"Input binary string must be 32 bits long.\")\n",
        "\n",
        "    # Perform the right shift operation\n",
        "    shifted_value = '0' * shift + value_bin[:-shift] if shift > 0 else value_bin\n",
        "\n",
        "    # Ensure the result is still 32 bits\n",
        "    return shifted_value[-32:]\n",
        "\n",
        "def xor_binary(bin1, bin2):\n",
        "  # Convert the binary strings to integers\n",
        "  num1 = int(bin1, 2)\n",
        "  num2 = int(bin2, 2)\n",
        "\n",
        "  # Perform XOR operation\n",
        "  result = num1 ^ num2\n",
        "\n",
        "  # Convert the result back to binary and format as 32 bits\n",
        "  result_bin = bin(result)[2:].zfill(32)  # Remove '0b' prefix and pad to 32 bits\n",
        "  return(result_bin)\n",
        "\n",
        "def sigma_0(value_bin):\n",
        "  bin1 = rotate_right(value_bin,7)\n",
        "  bin2 = rotate_right(value_bin,18)\n",
        "  bin3 = right_shift(value_bin,3)\n",
        "  result = (xor_binary(xor_binary(bin1,bin2),bin3))\n",
        "  return(result)\n",
        "\n",
        "def sigma_1(value_bin):\n",
        "  bin1 = rotate_right(value_bin,17)\n",
        "  bin2 = rotate_right(value_bin,19)\n",
        "  bin3 = right_shift(value_bin,10)\n",
        "  result = (xor_binary(xor_binary(bin1,bin2),bin3))\n",
        "  return(result)\n",
        "\n",
        "def Sigma_0(value_bin):\n",
        "  bin1 = rotate_right(value_bin,2)\n",
        "  bin2 = rotate_right(value_bin,13)\n",
        "  bin3 = rotate_right(value_bin,22)\n",
        "  #result_1 = ''.join('1' if b1 != b2 else '0' for b1, b2 in zip(bin1, bin2))\n",
        "  #result_2 = ''.join('1' if b1 != b2 else '0' for b1, b2 in zip(result_1, bin3))\n",
        "  result = (xor_binary(xor_binary(bin1,bin2),bin3))\n",
        "\n",
        "  return(result)\n",
        "\n",
        "def Sigma_1(value_bin):\n",
        "  bin1 = rotate_right(value_bin,6)\n",
        "  bin2 = rotate_right(value_bin,11)\n",
        "  bin3 = rotate_right(value_bin,25)\n",
        "  #result_1 = ''.join('1' if b1 != b2 else '0' for b1, b2 in zip(bin1, bin2))\n",
        "  #result_2 = ''.join('1' if b1 != b2 else '0' for b1, b2 in zip(result_1, bin3))\n",
        "  result = (xor_binary(xor_binary(bin1,bin2),bin3))\n",
        "\n",
        "  return(result)\n",
        "\n",
        "def add_mod_2_32(bin1, bin2):\n",
        "  # Ensure both binary strings have the same length\n",
        "  # Convert binary strings to integers\n",
        "  num1 = int(bin1, 2)\n",
        "  num2 = int(bin2, 2)\n",
        "  # Perform the addition modulo 2^32\n",
        "  result = (num1 + num2) % (2**32)\n",
        "  # Convert the result back to a 32-bit binary string\n",
        "  result_bin = format(result, '032b')  # '032b' ensures it's 32 bits long\n",
        "  return(result_bin)\n",
        "\n",
        "from gmpy2 import mpfr, floor, next_prime\n",
        "\n",
        "def convert_primes_cube_fractional_part_to_hex_constant(prime, hex_chars=8):\n",
        "  cube_root = mpfr(prime)**(1/mpfr(3))\n",
        "  frac_part = cube_root - floor(cube_root)\n",
        "  format_str = '%%0%dx' % hex_chars\n",
        "  # format_str will be '%08x' if hex_chars=8 so always emits\n",
        "  # 8 zero-padded hex digits\n",
        "  return format_str % int(floor(frac_part*(16**hex_chars)))\n",
        "\n",
        "def generate_n_primes(n):\n",
        "  p = 2\n",
        "  i = 0\n",
        "  while i < n:\n",
        "    yield p\n",
        "    p = next_prime(p)\n",
        "    i += 1\n",
        "\n",
        "#item 1 Algorithm\n",
        "def W_t(w,t):\n",
        "  return(add_mod_2_32(add_mod_2_32(add_mod_2_32(sigma_1(w[t-2]),w[t-7]),sigma_0(w[t-15])),w[t-16]))"
      ],
      "metadata": {
        "id": "uo263NT717vS"
      },
      "execution_count": null,
      "outputs": []
    },
    {
      "cell_type": "code",
      "source": [
        "def xor_binary(bin1, bin2):\n",
        "  # Convert the binary strings to integers\n",
        "  num1 = int(bin1, 2)\n",
        "  num2 = int(bin2, 2)\n",
        "\n",
        "  # Perform XOR operation\n",
        "  result = num1 ^ num2\n",
        "  # Convert the result back to binary and format as 32 bits\n",
        "  result_bin = bin(result)[2:].zfill(32)  # Remove '0b' prefix and pad to 32 bits\n",
        "  return(result_bin)"
      ],
      "metadata": {
        "id": "VuAxIkQniyn8"
      },
      "execution_count": null,
      "outputs": []
    },
    {
      "cell_type": "code",
      "source": [
        "def Ch(x, y, z):\n",
        "  #((x & y) ^ (~x & z))\n",
        "  # Ensure inputs are all 32-bits long\n",
        "  assert len(x) == len(y) == len(z) == 32, \"All inputs must be 32-bit strings\"\n",
        "  num1 = int(x, 2)\n",
        "  num2 = int(y, 2)\n",
        "  num3 = int(z,2)\n",
        "  result = (num1 & num2)^( ~ num1 & num3)\n",
        "  result_bin = bin(result)[2:].zfill(32)  # Remove '0b' prefix and pad to 32 bits\n",
        "  return(result_bin)\n",
        "\n",
        "def Maj(x, y, z):\n",
        "  # Ensure inputs are all 32-bits long\n",
        "  assert len(x) == len(y) == len(z) == 32, \"All inputs must be 32-bit strings\"\n",
        "\n",
        "  num1 = int(x, 2)\n",
        "  num2 = int(y, 2)\n",
        "  num3 = int(z,2)\n",
        "\n",
        "  # Perform XOR operation\n",
        "  result = (num1 & num2)^(num1 & num3)^(num2 & num3)\n",
        "  # Convert the result back to binary and format as 32 bits\n",
        "  result_bin = bin(result)[2:].zfill(32)  # Remove '0b' prefix and pad to 32 bits\n",
        "  return(result_bin)\n"
      ],
      "metadata": {
        "id": "pUqvS5bCy56b"
      },
      "execution_count": null,
      "outputs": []
    },
    {
      "cell_type": "code",
      "source": [
        "def binary_to_hex(binary_str):\n",
        "    # Ensure the binary string is a valid length multiple of 4\n",
        "    if len(binary_str) % 4 != 0:\n",
        "        # Pad with leading zeros to make the length a multiple of 4\n",
        "        binary_str = binary_str.zfill(len(binary_str) + (4 - len(binary_str) % 4))\n",
        "\n",
        "    # Convert binary string to an integer\n",
        "    integer_value = int(binary_str, 2)\n",
        "\n",
        "    # Convert integer to hexadecimal and return as a string\n",
        "    hex_value = hex(integer_value)[2:].lower()  # Remove \"0x\" prefix and make it uppercase\n",
        "\n",
        "    return hex_value\n",
        "\n",
        "def word_to_binary(word):\n",
        "    # Convert each character to its ASCII value and then to binary\n",
        "    binary_values = [bin(ord(char))[2:].zfill(8) for char in word]\n",
        "    return binary_values"
      ],
      "metadata": {
        "id": "Z27T0r31I1bQ"
      },
      "execution_count": null,
      "outputs": []
    },
    {
      "cell_type": "code",
      "source": [
        "print(word_to_binary('hola'))"
      ],
      "metadata": {
        "colab": {
          "base_uri": "https://localhost:8080/"
        },
        "id": "pSXLZlvjxm1v",
        "outputId": "23c6d55e-c494-45a7-a9d6-afba9da64079"
      },
      "execution_count": null,
      "outputs": [
        {
          "output_type": "stream",
          "name": "stdout",
          "text": [
            "['01101000', '01101111', '01101100', '01100001']\n"
          ]
        }
      ]
    },
    {
      "cell_type": "code",
      "source": [
        "#hola\n",
        "M0 = '01101000011011110110110001100001'\n",
        "M1 = '10000000000000000000000000000000'\n",
        "M2 = '00000000000000000000000000000000'\n",
        "M3 = '00000000000000000000000000000000'\n",
        "M4 = '00000000000000000000000000000000'\n",
        "M5 = '00000000000000000000000000000000'\n",
        "M6 = '00000000000000000000000000000000'\n",
        "M7 = '00000000000000000000000000000000'\n",
        "M8 = '00000000000000000000000000000000'\n",
        "M9 = '00000000000000000000000000000000'\n",
        "M10 = '00000000000000000000000000000000'\n",
        "M11 = '00000000000000000000000000000000'\n",
        "M12 = '00000000000000000000000000000000'\n",
        "M13 = '00000000000000000000000000000000'\n",
        "M14 = '00000000000000000000000000000000'\n",
        "M15 = '00000000000000000000000000100000'\n",
        "w = [M0,M1,M2,M3,M4,M5,M6,M7,M8,M9,M10,M11,M12,M13,M14,M15]"
      ],
      "metadata": {
        "id": "c3bVCIRpVBYV"
      },
      "execution_count": null,
      "outputs": []
    },
    {
      "cell_type": "code",
      "source": [
        "for i in range(16,64):\n",
        "  w.append(W_t(w,i))"
      ],
      "metadata": {
        "id": "Uww6wmUzFljJ"
      },
      "execution_count": null,
      "outputs": []
    },
    {
      "cell_type": "code",
      "source": [
        "a = '01101010000010011110011001100111' # 6a09e667\n",
        "b = '10111011011001111010111010000101'\n",
        "c = '00111100011011101111001101110010'\n",
        "d = '10100101010011111111010100111010'\n",
        "e = '01010001000011100101001001111111'\n",
        "f = '10011011000001010110100010001100'\n",
        "g = '00011111100000111101100110101011'\n",
        "h = '01011011111000001100110100011001'"
      ],
      "metadata": {
        "id": "r_8FYUJoeU3f"
      },
      "execution_count": null,
      "outputs": []
    },
    {
      "cell_type": "code",
      "source": [
        "K = []\n",
        "for i,p in enumerate(generate_n_primes(64)):\n",
        "  k = '0x'+ convert_primes_cube_fractional_part_to_hex_constant(p, hex_chars=8)\n",
        "  K.append(k)"
      ],
      "metadata": {
        "id": "Mw48q4A4jKsz"
      },
      "execution_count": null,
      "outputs": []
    },
    {
      "cell_type": "code",
      "source": [
        "K1 = [0x428a2f98 ,  0x71374491 ,  0xb5c0fbcf ,  0xe9b5dba5 ,  0x3956c25b ,  0x59f111f1 ,  0x923f82a4 ,  0xab1c5ed5 ,  0xd807aa98 ,  0x12835b01 ,  0x243185be ,  0x550c7dc3 ,  0x72be5d74 ,  0x80deb1fe ,  0x9bdc06a7 ,  0xc19bf174 ,  0xe49b69c1 ,  0xefbe4786 ,  0x0fc19dc6 ,  0x240ca1cc ,  0x2de92c6f ,  0x4a7484aa ,  0x5cb0a9dc ,  0x76f988da ,  0x983e5152 ,  0xa831c66d ,  0xb00327c8 ,  0xbf597fc7 ,  0xc6e00bf3 ,  0xd5a79147 ,  0x06ca6351 ,  0x14292967 ,  0x27b70a85 ,  0x2e1b2138 ,  0x4d2c6dfc ,  0x53380d13 ,  0x650a7354 ,  0x766a0abb ,  0x81c2c92e ,  0x92722c85 ,  0xa2bfe8a1 ,  0xa81a664b ,  0xc24b8b70 ,  0xc76c51a3 ,  0xd192e819 ,  0xd6990624 ,  0xf40e3585 ,  0x106aa070 ,  0x19a4c116 ,  0x1e376c08 ,  0x2748774c ,  0x34b0bcb5 ,  0x391c0cb3 ,  0x4ed8aa4a ,  0x5b9cca4f ,  0x682e6ff3 ,  0x748f82ee ,  0x78a5636f ,  0x84c87814 ,  0x8cc70208 ,  0x90befffa ,  0xa4506ceb ,  0xbef9a3f7 ,  0xc67178f2 ]\n",
        "K_binary = []\n",
        "for j in range(len(K1)):\n",
        "  K_binary.append(f'{K1[j]:0>32b}')\n"
      ],
      "metadata": {
        "id": "weGueIY8UpAG"
      },
      "execution_count": null,
      "outputs": []
    },
    {
      "cell_type": "code",
      "source": [
        "print(K_binary)"
      ],
      "metadata": {
        "colab": {
          "base_uri": "https://localhost:8080/"
        },
        "id": "eSJpqx4xFaJ6",
        "outputId": "10272d9f-2531-4ff6-9429-976d9ce62fe7"
      },
      "execution_count": null,
      "outputs": [
        {
          "output_type": "stream",
          "name": "stdout",
          "text": [
            "['01000010100010100010111110011000', '01110001001101110100010010010001', '10110101110000001111101111001111', '11101001101101011101101110100101', '00111001010101101100001001011011', '01011001111100010001000111110001', '10010010001111111000001010100100', '10101011000111000101111011010101', '11011000000001111010101010011000', '00010010100000110101101100000001', '00100100001100011000010110111110', '01010101000011000111110111000011', '01110010101111100101110101110100', '10000000110111101011000111111110', '10011011110111000000011010100111', '11000001100110111111000101110100', '11100100100110110110100111000001', '11101111101111100100011110000110', '00001111110000011001110111000110', '00100100000011001010000111001100', '00101101111010010010110001101111', '01001010011101001000010010101010', '01011100101100001010100111011100', '01110110111110011000100011011010', '10011000001111100101000101010010', '10101000001100011100011001101101', '10110000000000110010011111001000', '10111111010110010111111111000111', '11000110111000000000101111110011', '11010101101001111001000101000111', '00000110110010100110001101010001', '00010100001010010010100101100111', '00100111101101110000101010000101', '00101110000110110010000100111000', '01001101001011000110110111111100', '01010011001110000000110100010011', '01100101000010100111001101010100', '01110110011010100000101010111011', '10000001110000101100100100101110', '10010010011100100010110010000101', '10100010101111111110100010100001', '10101000000110100110011001001011', '11000010010010111000101101110000', '11000111011011000101000110100011', '11010001100100101110100000011001', '11010110100110010000011000100100', '11110100000011100011010110000101', '00010000011010101010000001110000', '00011001101001001100000100010110', '00011110001101110110110000001000', '00100111010010000111011101001100', '00110100101100001011110010110101', '00111001000111000000110010110011', '01001110110110001010101001001010', '01011011100111001100101001001111', '01101000001011100110111111110011', '01110100100011111000001011101110', '01111000101001010110001101101111', '10000100110010000111100000010100', '10001100110001110000001000001000', '10010000101111101111111111111010', '10100100010100000110110011101011', '10111110111110011010001111110111', '11000110011100010111100011110010']\n"
          ]
        }
      ]
    },
    {
      "cell_type": "code",
      "source": [
        "def item_3(v,t,w):\n",
        "  T_1 = add_mod_2_32(add_mod_2_32(add_mod_2_32(add_mod_2_32(v[7], Sigma_1(v[4])),Ch(v[4],v[5],v[6])),K_binary[t]),w[t])\n",
        "  #print(T_1)\n",
        "  T_2 = add_mod_2_32(Sigma_0(v[0]),Maj(v[0],v[1],v[2]))\n",
        "  #print(T_2)\n",
        "  h_3 = v[6]\n",
        "  g_3 = v[5]\n",
        "  f_3 = v[4]\n",
        "  e_3 = add_mod_2_32(v[3],T_1)\n",
        "  d_3 = v[2]\n",
        "  c_3 = v[1]\n",
        "  b_3 = v[0]\n",
        "  a_3 = add_mod_2_32(T_1,T_2)\n",
        "  return([a_3,b_3,c_3,d_3,e_3,f_3,g_3,h_3])"
      ],
      "metadata": {
        "id": "w3Z-6t0Ugjsn"
      },
      "execution_count": null,
      "outputs": []
    },
    {
      "cell_type": "code",
      "source": [
        "def item_3_recursive_1(v, t, rounds,w):\n",
        "    if t >= rounds:\n",
        "        return v  # Base case: stop recursion after 64 rounds\n",
        "\n",
        "    # Apply item_3 to the current state and round `t`\n",
        "    updated_v = item_3(v, t,w)\n",
        "    #print(t)\n",
        "    # Recursively process the next round\n",
        "    return item_3_recursive_1(updated_v, t + 1,rounds,w)\n"
      ],
      "metadata": {
        "id": "sq4Dwj2-107l"
      },
      "execution_count": null,
      "outputs": []
    },
    {
      "cell_type": "code",
      "source": [
        "def last_step(S,W):\n",
        "  item3_1 = item_3_recursive_1(S,0,64,W)\n",
        "  seed = S\n",
        "  item_4_1 = []\n",
        "  for i in range(len(item3_1)):\n",
        "    item_4_1.append(add_mod_2_32(item3_1[i],seed[i]))\n",
        "  item_5_1 = []\n",
        "  for i in range(len(item_4_1)):\n",
        "    item_5_1.append(binary_to_hex(item_4_1[i]))\n",
        "  return(''.join(item_5_1))"
      ],
      "metadata": {
        "id": "ek1kveIXGw9K"
      },
      "execution_count": null,
      "outputs": []
    },
    {
      "cell_type": "code",
      "source": [
        "last_step([a,b,c,d,e,f,g,h],w)"
      ],
      "metadata": {
        "colab": {
          "base_uri": "https://localhost:8080/",
          "height": 36
        },
        "id": "hFPv_kGNIMoH",
        "outputId": "59914a7f-6fcb-4063-a0e9-1c328208d3fb"
      },
      "execution_count": null,
      "outputs": [
        {
          "output_type": "execute_result",
          "data": {
            "text/plain": [
              "'b221d9dbb083a7f33428d7c2a3c3198ae925614d70210e28716ccaa7cd4ddb79'"
            ],
            "application/vnd.google.colaboratory.intrinsic+json": {
              "type": "string"
            }
          },
          "metadata": {},
          "execution_count": 19
        }
      ]
    },
    {
      "cell_type": "code",
      "source": [
        "from hashlib import sha256\n",
        "\n",
        "input_ = input('Hash:')\n",
        "print(sha256(input_.encode('utf-8')).hexdigest())"
      ],
      "metadata": {
        "colab": {
          "base_uri": "https://localhost:8080/"
        },
        "id": "THRaRgJas_Il",
        "outputId": "dd5697c9-d43d-4b18-9694-04fd23b2ecba"
      },
      "execution_count": null,
      "outputs": [
        {
          "output_type": "stream",
          "name": "stdout",
          "text": [
            "Hash:hola\n",
            "b221d9dbb083a7f33428d7c2a3c3198ae925614d70210e28716ccaa7cd4ddb79\n"
          ]
        }
      ]
    }
  ]
}